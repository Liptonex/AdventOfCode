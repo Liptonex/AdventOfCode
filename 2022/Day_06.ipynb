{
 "cells": [
  {
   "cell_type": "code",
   "execution_count": 124,
   "id": "2fc04205",
   "metadata": {},
   "outputs": [
    {
     "data": {
      "text/plain": [
       "['mjqjpqmgbljsphdztnvjfqwrcgsmlb\\n',\n",
       " 'bvwbjplbgvbhsrlpgdmjqwftvncz\\n',\n",
       " 'nppdvjthqldpwncqszvftbrmjlhg\\n',\n",
       " 'nznrnfrfntjfmvfwmzdfjlvtqnbhcprsg\\n',\n",
       " 'zcfzfwzzqfrljwzlrfnpqdbhtmscgvjw\\n']"
      ]
     },
     "execution_count": 124,
     "metadata": {},
     "output_type": "execute_result"
    }
   ],
   "source": [
    "with open('06_test.txt', 'r') as file:\n",
    "    content = file.readlines()\n",
    "content"
   ]
  },
  {
   "cell_type": "code",
   "execution_count": 125,
   "id": "d23028e1",
   "metadata": {},
   "outputs": [
    {
     "data": {
      "text/plain": [
       "'bvwbjplbgvbhsrlpgdmjqwftvncz\\n'"
      ]
     },
     "execution_count": 125,
     "metadata": {},
     "output_type": "execute_result"
    }
   ],
   "source": [
    "content = content[1].rstrip('/n')\n",
    "content"
   ]
  },
  {
   "cell_type": "code",
   "execution_count": 126,
   "id": "82c6af1c",
   "metadata": {},
   "outputs": [],
   "source": [
    "datastream = list(content)"
   ]
  },
  {
   "cell_type": "code",
   "execution_count": 127,
   "id": "48f9556f",
   "metadata": {},
   "outputs": [],
   "source": [
    "def finder(data):\n",
    "    for n in range(14, len(data)):\n",
    "        print(f'### {n}')\n",
    "        signal = data[n-14:n]\n",
    "        print(signal)\n",
    "        check = set(signal)\n",
    "        if len(check) == 14:\n",
    "            print('Found!')\n",
    "            print(check)\n",
    "            return n\n",
    "            break\n",
    "#         else:\n",
    "#             print('No!')\n",
    "#             print(check)"
   ]
  },
  {
   "cell_type": "code",
   "execution_count": 128,
   "id": "22492bc6",
   "metadata": {},
   "outputs": [
    {
     "name": "stdout",
     "output_type": "stream",
     "text": [
      "### 14\n",
      "['b', 'v', 'w', 'b', 'j', 'p', 'l', 'b', 'g', 'v', 'b', 'h', 's', 'r']\n",
      "### 15\n",
      "['v', 'w', 'b', 'j', 'p', 'l', 'b', 'g', 'v', 'b', 'h', 's', 'r', 'l']\n",
      "### 16\n",
      "['w', 'b', 'j', 'p', 'l', 'b', 'g', 'v', 'b', 'h', 's', 'r', 'l', 'p']\n",
      "### 17\n",
      "['b', 'j', 'p', 'l', 'b', 'g', 'v', 'b', 'h', 's', 'r', 'l', 'p', 'g']\n",
      "### 18\n",
      "['j', 'p', 'l', 'b', 'g', 'v', 'b', 'h', 's', 'r', 'l', 'p', 'g', 'd']\n",
      "### 19\n",
      "['p', 'l', 'b', 'g', 'v', 'b', 'h', 's', 'r', 'l', 'p', 'g', 'd', 'm']\n",
      "### 20\n",
      "['l', 'b', 'g', 'v', 'b', 'h', 's', 'r', 'l', 'p', 'g', 'd', 'm', 'j']\n",
      "### 21\n",
      "['b', 'g', 'v', 'b', 'h', 's', 'r', 'l', 'p', 'g', 'd', 'm', 'j', 'q']\n",
      "### 22\n",
      "['g', 'v', 'b', 'h', 's', 'r', 'l', 'p', 'g', 'd', 'm', 'j', 'q', 'w']\n",
      "### 23\n",
      "['v', 'b', 'h', 's', 'r', 'l', 'p', 'g', 'd', 'm', 'j', 'q', 'w', 'f']\n",
      "Found!\n",
      "{'m', 'v', 'q', 'h', 'r', 'l', 'j', 'f', 's', 'g', 'p', 'w', 'd', 'b'}\n"
     ]
    },
    {
     "data": {
      "text/plain": [
       "23"
      ]
     },
     "execution_count": 128,
     "metadata": {},
     "output_type": "execute_result"
    }
   ],
   "source": [
    "finder(datastream)"
   ]
  },
  {
   "cell_type": "code",
   "execution_count": null,
   "id": "dd88e9eb",
   "metadata": {},
   "outputs": [],
   "source": []
  },
  {
   "cell_type": "code",
   "execution_count": null,
   "id": "5469a2b3",
   "metadata": {},
   "outputs": [],
   "source": []
  }
 ],
 "metadata": {
  "kernelspec": {
   "display_name": "Python 3 (ipykernel)",
   "language": "python",
   "name": "python3"
  },
  "language_info": {
   "codemirror_mode": {
    "name": "ipython",
    "version": 3
   },
   "file_extension": ".py",
   "mimetype": "text/x-python",
   "name": "python",
   "nbconvert_exporter": "python",
   "pygments_lexer": "ipython3",
   "version": "3.9.12"
  }
 },
 "nbformat": 4,
 "nbformat_minor": 5
}
