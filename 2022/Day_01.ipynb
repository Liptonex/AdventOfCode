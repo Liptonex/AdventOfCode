{
 "cells": [
  {
   "cell_type": "code",
   "execution_count": 38,
   "id": "22eb54fd",
   "metadata": {},
   "outputs": [
    {
     "data": {
      "text/plain": [
       "['1000\\n',\n",
       " '2000\\n',\n",
       " '3000\\n',\n",
       " '\\n',\n",
       " '4000\\n',\n",
       " '\\n',\n",
       " '5000\\n',\n",
       " '6000\\n',\n",
       " '\\n',\n",
       " '7000\\n',\n",
       " '8000\\n',\n",
       " '9000\\n',\n",
       " '\\n',\n",
       " '10000',\n",
       " '\\n']"
      ]
     },
     "execution_count": 38,
     "metadata": {},
     "output_type": "execute_result"
    }
   ],
   "source": [
    "with open('01_.txt', 'r') as file:\n",
    "    content = file.readlines()\n",
    "content.append('\\n')\n",
    "content"
   ]
  },
  {
   "cell_type": "code",
   "execution_count": 39,
   "id": "43c3d614",
   "metadata": {},
   "outputs": [
    {
     "data": {
      "text/plain": [
       "[[1000, 2000, 3000], [4000], [5000, 6000], [7000, 8000, 9000], [10000]]"
      ]
     },
     "execution_count": 39,
     "metadata": {},
     "output_type": "execute_result"
    }
   ],
   "source": [
    "all_elfs = []\n",
    "elf = []\n",
    "for line in content: \n",
    "    line = line.rstrip('\\n')\n",
    "    if line != '':\n",
    "        elf.append(int(line))\n",
    "    else:\n",
    "        all_elfs.append(elf)\n",
    "        elf = []\n",
    "all_elfs"
   ]
  },
  {
   "cell_type": "code",
   "execution_count": 40,
   "id": "6b4c6d58",
   "metadata": {},
   "outputs": [
    {
     "data": {
      "text/plain": [
       "[6000, 4000, 11000, 24000, 10000]"
      ]
     },
     "execution_count": 40,
     "metadata": {},
     "output_type": "execute_result"
    }
   ],
   "source": [
    "all_elfs_sums = []\n",
    "for elf in all_elfs:\n",
    "    callorie_sum = 0\n",
    "    for num in elf:\n",
    "        callorie_sum += num\n",
    "    all_elfs_sums.append(callorie_sum)\n",
    "all_elfs_sums"
   ]
  },
  {
   "cell_type": "code",
   "execution_count": 41,
   "id": "103bb457",
   "metadata": {},
   "outputs": [
    {
     "name": "stdout",
     "output_type": "stream",
     "text": [
      "Najwięcej kalorii ma elf 4 i jest to 24000 kalorii.\n"
     ]
    }
   ],
   "source": [
    "max_callories = max(all_elfs_sums)\n",
    "print(f'Najwięcej kalorii ma elf {all_elfs_sums.index(max_callories)+1} i jest to {max_callories} kalorii.')"
   ]
  },
  {
   "cell_type": "code",
   "execution_count": 42,
   "id": "5ef5fc24",
   "metadata": {},
   "outputs": [
    {
     "data": {
      "text/plain": [
       "[24000, 11000, 10000, 6000, 4000]"
      ]
     },
     "execution_count": 42,
     "metadata": {},
     "output_type": "execute_result"
    }
   ],
   "source": [
    "top_3 = sorted(all_elfs_sums, reverse=True)\n",
    "top_3"
   ]
  },
  {
   "cell_type": "code",
   "execution_count": 43,
   "id": "5a0aeecf",
   "metadata": {},
   "outputs": [
    {
     "name": "stdout",
     "output_type": "stream",
     "text": [
      "Najwięcej kalorii ma elf 4 i jest to 24000 kalorii.\n",
      "Najwięcej kalorii ma elf 3 i jest to 11000 kalorii.\n",
      "Najwięcej kalorii ma elf 5 i jest to 10000 kalorii.\n",
      "Najwięcej kalorii ma elf 1 i jest to 6000 kalorii.\n",
      "Najwięcej kalorii ma elf 2 i jest to 4000 kalorii.\n"
     ]
    }
   ],
   "source": [
    "for n in top_3:\n",
    "    print(f'Najwięcej kalorii ma elf {all_elfs_sums.index(n)+1} i jest to {n} kalorii.')"
   ]
  },
  {
   "cell_type": "code",
   "execution_count": 44,
   "id": "3ae8a98c",
   "metadata": {},
   "outputs": [
    {
     "data": {
      "text/plain": [
       "55000"
      ]
     },
     "execution_count": 44,
     "metadata": {},
     "output_type": "execute_result"
    }
   ],
   "source": [
    "sum(top_3)"
   ]
  },
  {
   "cell_type": "code",
   "execution_count": null,
   "id": "4e1bac43",
   "metadata": {},
   "outputs": [],
   "source": []
  },
  {
   "cell_type": "code",
   "execution_count": null,
   "id": "56016b88",
   "metadata": {},
   "outputs": [],
   "source": []
  }
 ],
 "metadata": {
  "kernelspec": {
   "display_name": "Python 3 (ipykernel)",
   "language": "python",
   "name": "python3"
  },
  "language_info": {
   "codemirror_mode": {
    "name": "ipython",
    "version": 3
   },
   "file_extension": ".py",
   "mimetype": "text/x-python",
   "name": "python",
   "nbconvert_exporter": "python",
   "pygments_lexer": "ipython3",
   "version": "3.9.12"
  }
 },
 "nbformat": 4,
 "nbformat_minor": 5
}
